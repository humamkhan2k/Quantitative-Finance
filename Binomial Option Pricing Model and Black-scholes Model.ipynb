{
  "nbformat": 4,
  "nbformat_minor": 0,
  "metadata": {
    "colab": {
      "name": "Assignment_2.ipynb",
      "provenance": [],
      "collapsed_sections": []
    },
    "kernelspec": {
      "name": "python3",
      "display_name": "Python 3"
    }
  },
  "cells": [
    {
      "cell_type": "markdown",
      "metadata": {
        "id": "yjedA52tJzgG",
        "colab_type": "text"
      },
      "source": [
        "# Binomial_Pricing_Model"
      ]
    },
    {
      "cell_type": "markdown",
      "metadata": {
        "id": "klWTmXe9ULHx",
        "colab_type": "text"
      },
      "source": [
        " Let **S denote the price of the stock today**, and **let T denote the time until expiry of the option**, in years. We'll divide this period into N equal time intervals, of length **ΔT=T/N**\n",
        " Assume that in each time period, the stock price changes by either multiplying by **u, which we consider as an up movement, or by d, the down movement**.\n",
        " We need to assume d<erΔT<u, where r is the risk-free interest rate, to avoid the possibility of arbitrage.  If k time periods have passed, m is number if up movement :\n",
        " S(k,m)=S * u ** m * d ** (k-m) \n",
        "\n",
        "C(N,m)=max(S(N,m)−K,0)\n",
        "\n",
        " Once we know the value of the option at the end of the tree, we can work backward as before to figure out the value of the option at every node. Let C**(k,m)** denote the value of the option at the node that is k steps into the tree with m up movements in the stock price. The two following nodes in the tree are **C(k+1,m+1)** (if the price moves up) and C(k+1,m) (if the price moves down). If we let  **p denote the risk-neutral probability**\n",
        " \n",
        "  p = (e**(rΔT)−d)/(u−d)\n",
        " \n",
        "  of a movement up, then the  **expected value of the option** in the next step is  \n",
        " **pC(k+1,m+1)+(1−p)C(k+1,m)**\n",
        "\n",
        "and so the value of the option at C(k,m) is the above expected value, discounted to today using the risk-free interest rate. That is\n",
        "\n",
        "**C(k,m)=e−rΔT(pC(k+1,m+1)+(1−p)C(k+1,m))**"
      ]
    },
    {
      "cell_type": "code",
      "metadata": {
        "id": "RoezHIiN0sVU",
        "colab_type": "code",
        "colab": {}
      },
      "source": [
        "import pandas as pd\n",
        "import matplotlib.pyplot as plt\n",
        "import math\n",
        "import numpy as np"
      ],
      "execution_count": 0,
      "outputs": []
    },
    {
      "cell_type": "code",
      "metadata": {
        "id": "6ofou21WJxa-",
        "colab_type": "code",
        "colab": {}
      },
      "source": [
        "\n",
        "def first_binomial_call(S, K, T, r, u, d, N):\n",
        "    dt = T/N;\n",
        "    p = (math.exp(r*dt) - d)/(u - d) \n",
        "    C = {}\n",
        "    for m in range(0, N+1):\n",
        "            C[(N, m)] = max((S*(u**m)*(d**(N-m))) - K, 0)\n",
        "    for k in range(N-1, -1, -1):\n",
        "        for m in range(0,k+1):\n",
        "            C[(k, m)] = math.exp(-r*dt) * (p*C[(k+1,m+1)] + (1-p)*C[(k+1,m)])\n",
        "    return C"
      ],
      "execution_count": 0,
      "outputs": []
    },
    {
      "cell_type": "code",
      "metadata": {
        "id": "sXbSWKzGM0yi",
        "colab_type": "code",
        "colab": {}
      },
      "source": [
        "call = []\n",
        "for N in range(1,1000,10):\n",
        "  call_price = first_binomial_call(100, 100, 1, 0, 1.2, 0.8, N)\n",
        "  call.append(call_price)\n",
        "call = pd.DataFrame(call)\n",
        "call.plot()\n",
        "call.head()"
      ],
      "execution_count": 0,
      "outputs": []
    },
    {
      "cell_type": "code",
      "metadata": {
        "id": "6GFU2JMBGN_R",
        "colab_type": "code",
        "colab": {}
      },
      "source": [
        "#What can be the Max possible value of the Call_Option as we increase N?\n",
        "#Ans: ______"
      ],
      "execution_count": 0,
      "outputs": []
    },
    {
      "cell_type": "markdown",
      "metadata": {
        "id": "VDRuFjgoVSyc",
        "colab_type": "text"
      },
      "source": [
        "# Black_Scholes_Model"
      ]
    },
    {
      "cell_type": "code",
      "metadata": {
        "id": "TGod0t-ieVUc",
        "colab_type": "code",
        "colab": {}
      },
      "source": [
        "# c = S*N(d1) − K*e**−(rT)*N(d2)\n",
        "# p = K*e**(−rT)*N(−d2) − S*N(−d1)\n",
        "\n",
        "# d1 = (ln(S/K)+(r+(σ**2)/2)*T)/sigma*T**0.5\n",
        "# d2 =  d1−sigma*T**0.5"
      ],
      "execution_count": 0,
      "outputs": []
    },
    {
      "cell_type": "code",
      "metadata": {
        "id": "rVyiiAg_flPK",
        "colab_type": "code",
        "colab": {}
      },
      "source": [
        "import scipy.stats as si\n",
        "import sympy as sy\n",
        "from sympy.stats import Normal, cdf\n",
        "from datetime import datetime\n",
        "\n",
        "import warnings\n",
        "warnings.filterwarnings(\"ignore\")"
      ],
      "execution_count": 0,
      "outputs": []
    },
    {
      "cell_type": "markdown",
      "metadata": {
        "id": "WITx5K4Ed1SN",
        "colab_type": "text"
      },
      "source": [
        "<!-- c=S*N(d1) − K**e(-rT)*N(d2)\n",
        "\n",
        "p=K**e(-rT)*N(−d2) − S*N(−d1)\n",
        "\n",
        "d1=ln(S0/K)+(r+σ2/2)TσT−−√\n",
        "\n",
        "d2=ln(S0/K)+(r−σ2/2)TσT−−√=d1−σT−−√ -->"
      ]
    },
    {
      "cell_type": "code",
      "metadata": {
        "id": "FA0BGqcqV-Zo",
        "colab_type": "code",
        "colab": {}
      },
      "source": [
        "def euro_vanilla(S, K, T, r, sigma, option):\n",
        "    \n",
        "    #S: spot price\n",
        "    #K: strike price\n",
        "    #T: time to maturity\n",
        "    #r: interest rate\n",
        "    #sigma: volatility of underlying asset\n",
        "    \n",
        "    d1 = (math.log(S/K) + (r + (sigma**2)/2)*T)/sigma * T**0.5\n",
        "    d2 = d1 - (sigma * T**0.5)\n",
        "    N = Normal('N', 0, 1)\n",
        "    x = (cdf(N))(d1).evalf()\n",
        "    y = (cdf(N))(d2).evalf()\n",
        "    z = (cdf(N))(-d1).evalf()\n",
        "    w = (cdf(N))(-d2).evalf()\n",
        "    result = 0\n",
        "    if option == 'call':\n",
        "        result = S*x - K*math.e**(-r*T)*y\n",
        "    if option == 'put':\n",
        "        result = K*math.e**(-r*T)*w - S*z \n",
        "    return result"
      ],
      "execution_count": 0,
      "outputs": []
    },
    {
      "cell_type": "code",
      "metadata": {
        "id": "S3ixCAILbFW7",
        "colab_type": "code",
        "outputId": "3f00a709-5448-48bc-c128-ae1a3ceb19d3",
        "colab": {
          "base_uri": "https://localhost:8080/",
          "height": 35
        }
      },
      "source": [
        "euro_vanilla(S = 80, K=100, T=1, r=0.02/252, sigma=.25, option = 'call')"
      ],
      "execution_count": 7,
      "outputs": [
        {
          "output_type": "execute_result",
          "data": {
            "text/plain": [
              "2.26681609705778"
            ]
          },
          "metadata": {
            "tags": []
          },
          "execution_count": 7
        }
      ]
    },
    {
      "cell_type": "code",
      "metadata": {
        "id": "NmXeEdXgGYpQ",
        "colab_type": "code",
        "outputId": "2db6a3ae-39a3-481c-f5f8-a7d2a9ac4f99",
        "colab": {
          "base_uri": "https://localhost:8080/",
          "height": 295
        }
      },
      "source": [
        "# Fetching nifty_data\n",
        "\n",
        "nifty_data = pd.read_csv('https://raw.githubusercontent.com/humamkhan2k/Quantitative-Finance/master/Option_data_NIFTY.csv')\n",
        "\n",
        "nifty_data.head()\n"
      ],
      "execution_count": 8,
      "outputs": [
        {
          "output_type": "execute_result",
          "data": {
            "text/html": [
              "<div>\n",
              "<style scoped>\n",
              "    .dataframe tbody tr th:only-of-type {\n",
              "        vertical-align: middle;\n",
              "    }\n",
              "\n",
              "    .dataframe tbody tr th {\n",
              "        vertical-align: top;\n",
              "    }\n",
              "\n",
              "    .dataframe thead th {\n",
              "        text-align: right;\n",
              "    }\n",
              "</style>\n",
              "<table border=\"1\" class=\"dataframe\">\n",
              "  <thead>\n",
              "    <tr style=\"text-align: right;\">\n",
              "      <th></th>\n",
              "      <th>Symbol</th>\n",
              "      <th>Date</th>\n",
              "      <th>Expiry</th>\n",
              "      <th>Option Type</th>\n",
              "      <th>Strike Price</th>\n",
              "      <th>Open</th>\n",
              "      <th>High</th>\n",
              "      <th>Low</th>\n",
              "      <th>Close</th>\n",
              "      <th>LTP</th>\n",
              "      <th>Settle Price</th>\n",
              "      <th>No. of contracts</th>\n",
              "      <th>Turnover in Lacs</th>\n",
              "      <th>Premium Turnover in Lacs</th>\n",
              "      <th>Open Int</th>\n",
              "      <th>Change in OI</th>\n",
              "      <th>Underlying Value</th>\n",
              "      <th>Time to Expiry</th>\n",
              "    </tr>\n",
              "  </thead>\n",
              "  <tbody>\n",
              "    <tr>\n",
              "      <th>0</th>\n",
              "      <td>NIFTY</td>\n",
              "      <td>10-11-2017</td>\n",
              "      <td>28-Dec-17</td>\n",
              "      <td>CE</td>\n",
              "      <td>10100</td>\n",
              "      <td>342.00</td>\n",
              "      <td>384.55</td>\n",
              "      <td>319.95</td>\n",
              "      <td>346.65</td>\n",
              "      <td>357.25</td>\n",
              "      <td>346.65</td>\n",
              "      <td>369</td>\n",
              "      <td>2891.94</td>\n",
              "      <td>96.77</td>\n",
              "      <td>270000</td>\n",
              "      <td>6000</td>\n",
              "      <td>10321.75</td>\n",
              "      <td>48</td>\n",
              "    </tr>\n",
              "    <tr>\n",
              "      <th>1</th>\n",
              "      <td>NIFTY</td>\n",
              "      <td>10-11-2017</td>\n",
              "      <td>28-Dec-17</td>\n",
              "      <td>CE</td>\n",
              "      <td>10200</td>\n",
              "      <td>274.05</td>\n",
              "      <td>308.15</td>\n",
              "      <td>246.00</td>\n",
              "      <td>280.10</td>\n",
              "      <td>288.00</td>\n",
              "      <td>280.10</td>\n",
              "      <td>814</td>\n",
              "      <td>6395.29</td>\n",
              "      <td>168.19</td>\n",
              "      <td>463125</td>\n",
              "      <td>1200</td>\n",
              "      <td>10321.75</td>\n",
              "      <td>48</td>\n",
              "    </tr>\n",
              "    <tr>\n",
              "      <th>2</th>\n",
              "      <td>NIFTY</td>\n",
              "      <td>10-11-2017</td>\n",
              "      <td>28-Dec-17</td>\n",
              "      <td>CE</td>\n",
              "      <td>10300</td>\n",
              "      <td>213.15</td>\n",
              "      <td>239.05</td>\n",
              "      <td>184.95</td>\n",
              "      <td>214.45</td>\n",
              "      <td>220.00</td>\n",
              "      <td>214.45</td>\n",
              "      <td>2489</td>\n",
              "      <td>19614.17</td>\n",
              "      <td>386.64</td>\n",
              "      <td>583650</td>\n",
              "      <td>7725</td>\n",
              "      <td>10321.75</td>\n",
              "      <td>48</td>\n",
              "    </tr>\n",
              "    <tr>\n",
              "      <th>3</th>\n",
              "      <td>NIFTY</td>\n",
              "      <td>10-11-2017</td>\n",
              "      <td>28-Dec-17</td>\n",
              "      <td>CE</td>\n",
              "      <td>10400</td>\n",
              "      <td>156.10</td>\n",
              "      <td>177.75</td>\n",
              "      <td>133.40</td>\n",
              "      <td>153.65</td>\n",
              "      <td>161.45</td>\n",
              "      <td>153.65</td>\n",
              "      <td>2648</td>\n",
              "      <td>20963.42</td>\n",
              "      <td>309.02</td>\n",
              "      <td>436650</td>\n",
              "      <td>3675</td>\n",
              "      <td>10321.75</td>\n",
              "      <td>48</td>\n",
              "    </tr>\n",
              "    <tr>\n",
              "      <th>4</th>\n",
              "      <td>NIFTY</td>\n",
              "      <td>10-11-2017</td>\n",
              "      <td>28-Dec-17</td>\n",
              "      <td>CE</td>\n",
              "      <td>10500</td>\n",
              "      <td>117.45</td>\n",
              "      <td>128.45</td>\n",
              "      <td>92.60</td>\n",
              "      <td>112.20</td>\n",
              "      <td>117.70</td>\n",
              "      <td>112.20</td>\n",
              "      <td>8500</td>\n",
              "      <td>67640.94</td>\n",
              "      <td>703.44</td>\n",
              "      <td>1862175</td>\n",
              "      <td>2625</td>\n",
              "      <td>10321.75</td>\n",
              "      <td>48</td>\n",
              "    </tr>\n",
              "  </tbody>\n",
              "</table>\n",
              "</div>"
            ],
            "text/plain": [
              "  Symbol        Date     Expiry  ... Change in OI  Underlying Value  Time to Expiry\n",
              "0  NIFTY  10-11-2017  28-Dec-17  ...         6000          10321.75              48\n",
              "1  NIFTY  10-11-2017  28-Dec-17  ...         1200          10321.75              48\n",
              "2  NIFTY  10-11-2017  28-Dec-17  ...         7725          10321.75              48\n",
              "3  NIFTY  10-11-2017  28-Dec-17  ...         3675          10321.75              48\n",
              "4  NIFTY  10-11-2017  28-Dec-17  ...         2625          10321.75              48\n",
              "\n",
              "[5 rows x 18 columns]"
            ]
          },
          "metadata": {
            "tags": []
          },
          "execution_count": 8
        }
      ]
    },
    {
      "cell_type": "code",
      "metadata": {
        "id": "kBIA_jifHLiD",
        "colab_type": "code",
        "colab": {}
      },
      "source": [
        "# Pick a Strike of your choice. Calculate required inputs for pricing the call and put option of that strike for all the dates\n",
        "\n",
        "Strike_Price = 10100\n",
        "new_data = nifty_data[nifty_data['Strike Price'] == Strike_Price]\n",
        "new_data['volatility'] = np.log(new_data['Underlying Value'] / new_data['Underlying Value'].shift(1))\n",
        "new_data['volatility'] = new_data.loc[:, 'volatility'].std(skipna=True)\n",
        "new_data['volatility'] = new_data['volatility']*math.sqrt(365)\n",
        "new_data['Theoritical_Call'] = 0.0\n",
        "new_data['Theoritical_Put'] = 0.0\n",
        "\n",
        "new_data['Date'] = pd.to_datetime(new_data['Date'])\n",
        "new_data.index  = new_data['Date'] \n",
        "for i in range(len(new_data)):\n",
        "  new_data['Theoritical_Call'][i] = euro_vanilla(S = new_data['Underlying Value'][i], K = Strike_Price, T = new_data['Time to Expiry'][i]/365 , r = 0.02/252, sigma =  new_data['volatility'][i], option = 'call')\n",
        "  new_data['Theoritical_Put'][i] = euro_vanilla(S = new_data['Underlying Value'][i], K = Strike_Price, T = new_data['Time to Expiry'][i]/365 , r = 0.02/252 , sigma = new_data['volatility'][i] , option = 'put')\n",
        "  "
      ],
      "execution_count": 0,
      "outputs": []
    },
    {
      "cell_type": "code",
      "metadata": {
        "id": "0lxoH1FcnICj",
        "colab_type": "code",
        "outputId": "27bef2f5-9f5a-4ff6-debe-51885e736494",
        "colab": {
          "base_uri": "https://localhost:8080/",
          "height": 434
        }
      },
      "source": [
        "new_data"
      ],
      "execution_count": 27,
      "outputs": [
        {
          "output_type": "execute_result",
          "data": {
            "text/html": [
              "<div>\n",
              "<style scoped>\n",
              "    .dataframe tbody tr th:only-of-type {\n",
              "        vertical-align: middle;\n",
              "    }\n",
              "\n",
              "    .dataframe tbody tr th {\n",
              "        vertical-align: top;\n",
              "    }\n",
              "\n",
              "    .dataframe thead th {\n",
              "        text-align: right;\n",
              "    }\n",
              "</style>\n",
              "<table border=\"1\" class=\"dataframe\">\n",
              "  <thead>\n",
              "    <tr style=\"text-align: right;\">\n",
              "      <th></th>\n",
              "      <th>Symbol</th>\n",
              "      <th>Date</th>\n",
              "      <th>Expiry</th>\n",
              "      <th>Option Type</th>\n",
              "      <th>Strike Price</th>\n",
              "      <th>Open</th>\n",
              "      <th>High</th>\n",
              "      <th>Low</th>\n",
              "      <th>Close</th>\n",
              "      <th>LTP</th>\n",
              "      <th>Settle Price</th>\n",
              "      <th>No. of contracts</th>\n",
              "      <th>Turnover in Lacs</th>\n",
              "      <th>Premium Turnover in Lacs</th>\n",
              "      <th>Open Int</th>\n",
              "      <th>Change in OI</th>\n",
              "      <th>Underlying Value</th>\n",
              "      <th>Time to Expiry</th>\n",
              "      <th>volatility</th>\n",
              "      <th>Theoritical_Call</th>\n",
              "      <th>Theoritical_Put</th>\n",
              "    </tr>\n",
              "    <tr>\n",
              "      <th>Date</th>\n",
              "      <th></th>\n",
              "      <th></th>\n",
              "      <th></th>\n",
              "      <th></th>\n",
              "      <th></th>\n",
              "      <th></th>\n",
              "      <th></th>\n",
              "      <th></th>\n",
              "      <th></th>\n",
              "      <th></th>\n",
              "      <th></th>\n",
              "      <th></th>\n",
              "      <th></th>\n",
              "      <th></th>\n",
              "      <th></th>\n",
              "      <th></th>\n",
              "      <th></th>\n",
              "      <th></th>\n",
              "      <th></th>\n",
              "      <th></th>\n",
              "      <th></th>\n",
              "    </tr>\n",
              "  </thead>\n",
              "  <tbody>\n",
              "    <tr>\n",
              "      <th>2017-10-11</th>\n",
              "      <td>NIFTY</td>\n",
              "      <td>2017-10-11</td>\n",
              "      <td>28-Dec-17</td>\n",
              "      <td>CE</td>\n",
              "      <td>10100</td>\n",
              "      <td>342.00</td>\n",
              "      <td>384.55</td>\n",
              "      <td>319.95</td>\n",
              "      <td>346.65</td>\n",
              "      <td>357.25</td>\n",
              "      <td>346.65</td>\n",
              "      <td>369</td>\n",
              "      <td>2891.94</td>\n",
              "      <td>96.77</td>\n",
              "      <td>270000</td>\n",
              "      <td>6000</td>\n",
              "      <td>10321.75</td>\n",
              "      <td>48</td>\n",
              "      <td>0.144349</td>\n",
              "      <td>326.848742</td>\n",
              "      <td>104.993328</td>\n",
              "    </tr>\n",
              "    <tr>\n",
              "      <th>2017-11-13</th>\n",
              "      <td>NIFTY</td>\n",
              "      <td>2017-11-13</td>\n",
              "      <td>28-Dec-17</td>\n",
              "      <td>CE</td>\n",
              "      <td>10100</td>\n",
              "      <td>361.45</td>\n",
              "      <td>361.45</td>\n",
              "      <td>302.00</td>\n",
              "      <td>312.90</td>\n",
              "      <td>304.25</td>\n",
              "      <td>312.90</td>\n",
              "      <td>527</td>\n",
              "      <td>4120.16</td>\n",
              "      <td>128.13</td>\n",
              "      <td>273225</td>\n",
              "      <td>3225</td>\n",
              "      <td>10224.95</td>\n",
              "      <td>45</td>\n",
              "      <td>0.144349</td>\n",
              "      <td>268.366824</td>\n",
              "      <td>143.317999</td>\n",
              "    </tr>\n",
              "    <tr>\n",
              "      <th>2017-11-14</th>\n",
              "      <td>NIFTY</td>\n",
              "      <td>2017-11-14</td>\n",
              "      <td>28-Dec-17</td>\n",
              "      <td>CE</td>\n",
              "      <td>10100</td>\n",
              "      <td>291.75</td>\n",
              "      <td>306.05</td>\n",
              "      <td>271.40</td>\n",
              "      <td>275.45</td>\n",
              "      <td>272.30</td>\n",
              "      <td>275.45</td>\n",
              "      <td>1172</td>\n",
              "      <td>9127.58</td>\n",
              "      <td>249.68</td>\n",
              "      <td>308400</td>\n",
              "      <td>35175</td>\n",
              "      <td>10186.60</td>\n",
              "      <td>44</td>\n",
              "      <td>0.144349</td>\n",
              "      <td>246.082152</td>\n",
              "      <td>159.385523</td>\n",
              "    </tr>\n",
              "    <tr>\n",
              "      <th>2017-11-15</th>\n",
              "      <td>NIFTY</td>\n",
              "      <td>2017-11-15</td>\n",
              "      <td>28-Dec-17</td>\n",
              "      <td>CE</td>\n",
              "      <td>10100</td>\n",
              "      <td>255.00</td>\n",
              "      <td>255.00</td>\n",
              "      <td>203.95</td>\n",
              "      <td>220.50</td>\n",
              "      <td>225.20</td>\n",
              "      <td>220.50</td>\n",
              "      <td>1260</td>\n",
              "      <td>9759.03</td>\n",
              "      <td>214.53</td>\n",
              "      <td>311475</td>\n",
              "      <td>3075</td>\n",
              "      <td>10118.05</td>\n",
              "      <td>43</td>\n",
              "      <td>0.144349</td>\n",
              "      <td>208.704772</td>\n",
              "      <td>190.560338</td>\n",
              "    </tr>\n",
              "    <tr>\n",
              "      <th>2017-11-16</th>\n",
              "      <td>NIFTY</td>\n",
              "      <td>2017-11-16</td>\n",
              "      <td>28-Dec-17</td>\n",
              "      <td>CE</td>\n",
              "      <td>10100</td>\n",
              "      <td>232.50</td>\n",
              "      <td>282.15</td>\n",
              "      <td>224.00</td>\n",
              "      <td>265.40</td>\n",
              "      <td>278.45</td>\n",
              "      <td>265.40</td>\n",
              "      <td>2534</td>\n",
              "      <td>19681.40</td>\n",
              "      <td>486.35</td>\n",
              "      <td>403350</td>\n",
              "      <td>91875</td>\n",
              "      <td>10214.75</td>\n",
              "      <td>42</td>\n",
              "      <td>0.144349</td>\n",
              "      <td>256.042129</td>\n",
              "      <td>141.199892</td>\n",
              "    </tr>\n",
              "    <tr>\n",
              "      <th>2017-11-17</th>\n",
              "      <td>NIFTY</td>\n",
              "      <td>2017-11-17</td>\n",
              "      <td>28-Dec-17</td>\n",
              "      <td>CE</td>\n",
              "      <td>10100</td>\n",
              "      <td>348.00</td>\n",
              "      <td>370.15</td>\n",
              "      <td>302.50</td>\n",
              "      <td>312.40</td>\n",
              "      <td>303.70</td>\n",
              "      <td>312.40</td>\n",
              "      <td>1055</td>\n",
              "      <td>8255.74</td>\n",
              "      <td>264.12</td>\n",
              "      <td>408150</td>\n",
              "      <td>4800</td>\n",
              "      <td>10283.60</td>\n",
              "      <td>41</td>\n",
              "      <td>0.144349</td>\n",
              "      <td>289.984348</td>\n",
              "      <td>106.294307</td>\n",
              "    </tr>\n",
              "    <tr>\n",
              "      <th>2017-11-20</th>\n",
              "      <td>NIFTY</td>\n",
              "      <td>2017-11-20</td>\n",
              "      <td>28-Dec-17</td>\n",
              "      <td>CE</td>\n",
              "      <td>10100</td>\n",
              "      <td>300.55</td>\n",
              "      <td>335.80</td>\n",
              "      <td>292.80</td>\n",
              "      <td>321.00</td>\n",
              "      <td>321.40</td>\n",
              "      <td>321.00</td>\n",
              "      <td>752</td>\n",
              "      <td>5871.86</td>\n",
              "      <td>175.46</td>\n",
              "      <td>434175</td>\n",
              "      <td>26025</td>\n",
              "      <td>10298.75</td>\n",
              "      <td>38</td>\n",
              "      <td>0.144349</td>\n",
              "      <td>290.666053</td>\n",
              "      <td>91.832601</td>\n",
              "    </tr>\n",
              "  </tbody>\n",
              "</table>\n",
              "</div>"
            ],
            "text/plain": [
              "           Symbol       Date  ... Theoritical_Call Theoritical_Put\n",
              "Date                          ...                                 \n",
              "2017-10-11  NIFTY 2017-10-11  ...       326.848742      104.993328\n",
              "2017-11-13  NIFTY 2017-11-13  ...       268.366824      143.317999\n",
              "2017-11-14  NIFTY 2017-11-14  ...       246.082152      159.385523\n",
              "2017-11-15  NIFTY 2017-11-15  ...       208.704772      190.560338\n",
              "2017-11-16  NIFTY 2017-11-16  ...       256.042129      141.199892\n",
              "2017-11-17  NIFTY 2017-11-17  ...       289.984348      106.294307\n",
              "2017-11-20  NIFTY 2017-11-20  ...       290.666053       91.832601\n",
              "\n",
              "[7 rows x 21 columns]"
            ]
          },
          "metadata": {
            "tags": []
          },
          "execution_count": 27
        }
      ]
    },
    {
      "cell_type": "markdown",
      "metadata": {
        "id": "qFKtcMyXoxB7",
        "colab_type": "text"
      },
      "source": [
        ""
      ]
    },
    {
      "cell_type": "code",
      "metadata": {
        "id": "XFoT72TykQmW",
        "colab_type": "code",
        "outputId": "979c4aa1-bb9b-4322-d3bf-e448d86ad359",
        "colab": {
          "base_uri": "https://localhost:8080/",
          "height": 303
        }
      },
      "source": [
        "# Implement the put_call_parity by taking all the values on one side and calculate the net sum. Plot the sum to check how is the parity represented in real world options\n",
        "r = 0.02/252\n",
        "new_data['Put_Call_Parity'] = new_data['Theoritical_Call'] - new_data['Theoritical_Put'] - new_data['Underlying Value'] + Strike_Price*math.e**(-r*new_data['Time to Expiry']/365)\n",
        "new_data['Put_Call_Parity'].plot()"
      ],
      "execution_count": 28,
      "outputs": [
        {
          "output_type": "execute_result",
          "data": {
            "text/plain": [
              "<matplotlib.axes._subplots.AxesSubplot at 0x7f31c666d3c8>"
            ]
          },
          "metadata": {
            "tags": []
          },
          "execution_count": 28
        },
        {
          "output_type": "display_data",
          "data": {
            "image/png": "[encoded data removed]",
            "text/plain": [
              "<Figure size 432x288 with 1 Axes>"
            ]
          },
          "metadata": {
            "tags": [],
            "needs_background": "light"
          }
        }
      ]
    },
    {
      "cell_type": "code",
      "metadata": {
        "id": "B8UMACHToJNU",
        "colab_type": "code",
        "colab": {}
      },
      "source": [
        ""
      ],
      "execution_count": 0,
      "outputs": []
    }
  ]
}